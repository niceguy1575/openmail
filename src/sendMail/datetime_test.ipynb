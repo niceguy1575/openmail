{
 "cells": [
  {
   "cell_type": "code",
   "execution_count": 5,
   "metadata": {},
   "outputs": [],
   "source": [
    "from datetime import timedelta\n",
    "from datetime import datetime\n",
    "import time\n",
    "import pandas as pd\n",
    "import numpy as np\n",
    "import re\n",
    "import os"
   ]
  },
  {
   "cell_type": "code",
   "execution_count": 39,
   "metadata": {},
   "outputs": [],
   "source": [
    "# 0: 월 ~ 6: 일\n",
    "# 3: 목요일\n",
    "today = datetime.today()\n",
    "weekday = today.weekday()\n",
    "hour = today.hour\n",
    "minute = today.hour\n",
    "\n",
    "####\n",
    "# notion api를 이용한 weekly report page 자동 생성 (09:00에 생성)\n",
    "####\n",
    "\n",
    "weekly_report_page = \"\"\n",
    "\n",
    "# 주간보고는 해당 주차 목요일 오전 발송\n",
    "if weekday == 3 and hour == 10 and minute == 0:\n",
    "    sentence = '오늘은 목요일! 주간보고를 작성해주세요~ {url}'.format(url = weekly_report_page)\n",
    "\n",
    "firstday = today.replace(day=1)\n",
    "\n",
    "if firstday.weekday() == 6: # 6: 일 => 3주차 잘 인식함\n",
    "    origin = firstday\n",
    "    add_value = 0\n",
    "elif firstday.weekday() < 3: # 0 ~ 2: 월~수 => 3주차 잘 인식\n",
    "    origin = firstday - timedelta(days=firstday.weekday() + 1)\n",
    "    add_value = 0\n",
    "else: # 수,목,금 => 2주차로 인식됨, 1을 더해준다.\n",
    "    origin = firstday + timedelta(days=6-firstday.weekday())\n",
    "    add_value = 1\n",
    "\n",
    "family_weekday = (today - origin).days // 7 + 1 + add_value\n",
    "family_weekday\n",
    "\n",
    "# 패밀리데이는 해당 주차 목, 금요일에 발송\n",
    "if family_weekday == 3 and weekday in [3,4] : \n",
    "\n",
    "    # make day name\n",
    "    if weekday == 3:\n",
    "        day_name = \"목요일\"\n",
    "    else:\n",
    "        day_name = \"금요일\"\n",
    "\n",
    "    # make sentence\n",
    "    if day_name == \"목요일\":\n",
    "        sentence = '오늘은 ' + family_weekday + '주차 ' + day_name + '입니다! \\n' + \n",
    "                         '내일은 패밀리 데이가 있는 날이니, 염두에 두시고 즐거운 하루 보내시길 바랍니다~ 😆😆 \\n\\n' +\n",
    "                         '🙌  해당 요일에 외부 프로젝트 및 기타 업무를 하시는 분들께서는 대신 반차로 적립됩니다. '\n",
    "    else:\n",
    "        sentence = '오늘은 ' + family_weekday + '주차 ' + day_name + '입니다! \\n' + \n",
    "                        '오늘은 패밀리 데이가 있는 날이니, 오전에 업무 정리 잘 하시고 오후에 퇴근 하세요~ 😆😆 \\n\\n' +\n",
    "                        '🙌  해당 요일에 외부 프로젝트 및 기타 업무를 하시는 분들께서는 대신 반차로 적립됩니다. '\n"
   ]
  },
  {
   "cell_type": "code",
   "execution_count": null,
   "metadata": {},
   "outputs": [],
   "source": []
  }
 ],
 "metadata": {
  "kernelspec": {
   "name": "python3",
   "display_name": "Python 3.8.6 64-bit ('python@3.8')"
  },
  "language_info": {
   "codemirror_mode": {
    "name": "ipython",
    "version": 3
   },
   "file_extension": ".py",
   "mimetype": "text/x-python",
   "name": "python",
   "nbconvert_exporter": "python",
   "pygments_lexer": "ipython3",
   "version": "3.8.6"
  },
  "metadata": {
   "interpreter": {
    "hash": "1ee38ef4a5a9feb55287fd749643f13d043cb0a7addaab2a9c224cbe137c0062"
   }
  },
  "interpreter": {
   "hash": "1ee38ef4a5a9feb55287fd749643f13d043cb0a7addaab2a9c224cbe137c0062"
  }
 },
 "nbformat": 4,
 "nbformat_minor": 4
}